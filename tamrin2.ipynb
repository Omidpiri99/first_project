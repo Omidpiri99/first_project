{
  "nbformat": 4,
  "nbformat_minor": 0,
  "metadata": {
    "colab": {
      "provenance": [],
      "authorship_tag": "ABX9TyNNpP2TlSX2XTbyPCf9JLar",
      "include_colab_link": true
    },
    "kernelspec": {
      "name": "python3",
      "display_name": "Python 3"
    },
    "language_info": {
      "name": "python"
    }
  },
  "cells": [
    {
      "cell_type": "markdown",
      "metadata": {
        "id": "view-in-github",
        "colab_type": "text"
      },
      "source": [
        "<a href=\"https://colab.research.google.com/github/Omidpiri99/preprocessing/blob/main/tamrin2.ipynb\" target=\"_parent\"><img src=\"https://colab.research.google.com/assets/colab-badge.svg\" alt=\"Open In Colab\"/></a>"
      ]
    },
    {
      "cell_type": "code",
      "execution_count": 4,
      "metadata": {
        "colab": {
          "base_uri": "https://localhost:8080/"
        },
        "id": "Z8Sor36xyBO_",
        "outputId": "0e583525-ad6f-45a1-d40c-a10a73ee84d4"
      },
      "outputs": [
        {
          "output_type": "stream",
          "name": "stderr",
          "text": [
            "[nltk_data] Downloading package punkt to /root/nltk_data...\n",
            "[nltk_data]   Unzipping tokenizers/punkt.zip.\n"
          ]
        },
        {
          "output_type": "execute_result",
          "data": {
            "text/plain": [
              "True"
            ]
          },
          "metadata": {},
          "execution_count": 4
        }
      ],
      "source": [
        "import nltk\n",
        "nltk.download('punkt')"
      ]
    },
    {
      "cell_type": "code",
      "source": [
        "paragraph = \"\"\"Sleep is a fundamental aspect of human health, playing a critical role in various bodily functions and overall well-being. Despite its importance, sleep is often undervalued in modern society, where busy schedules and a culture of constant productivity can lead to chronic sleep deprivation. Understanding the significance of sleep is essential for fostering better health and quality of life.\n",
        "\n",
        "Firstly, sleep is crucial for cognitive functions such as memory consolidation, learning, and problem-solving. During sleep, particularly the rapid eye movement (REM) stage, the brain processes and organizes information gathered throughout the day. This process helps solidify memories and improves the ability to recall information later. Studies have shown that adequate sleep enhances performance on tasks requiring attention, creativity, and decision-making, highlighting its role in cognitive health.\n",
        "\n",
        "Moreover, sleep is vital for emotional regulation. Lack of sleep affects the brain's ability to manage stress and emotions, often leading to increased irritability, anxiety, and mood disorders. Chronic sleep deprivation is associated with a higher risk of developing mental health issues such as depression and anxiety disorders. Sleep helps maintain the balance of neurotransmitters and hormones involved in mood regulation, thereby contributing to emotional stability and mental health.\n",
        "\n",
        "Physiologically, sleep is indispensable for the body's repair and rejuvenation processes. During deep sleep stages, the body releases growth hormones that facilitate tissue growth and muscle repair. This is particularly important for athletes and individuals engaged in physical activities, as sleep supports recovery and performance. Additionally, sleep aids the immune system by enhancing the production of cytokines, proteins that help fight infections and inflammation. Consequently, sufficient sleep is linked to a lower susceptibility to illnesses and quicker recovery times.\n",
        "\n",
        "Sleep also plays a pivotal role in maintaining metabolic health. Insufficient sleep disrupts the balance of hormones that regulate hunger and appetite, such as leptin and ghrelin. This disruption can lead to increased appetite and cravings for high-calorie, carbohydrate-rich foods, contributing to weight gain and obesity. Furthermore, chronic sleep deprivation is associated with a higher risk of developing metabolic disorders such as diabetes and cardiovascular diseases. By ensuring adequate sleep, individuals can better manage their weight and reduce the risk of metabolic health issues.\n",
        "\n",
        "The societal implications of sleep deprivation are equally significant. Sleep-deprived individuals are more prone to accidents and errors, particularly in high-stakes professions such as healthcare, transportation, and manufacturing. For instance, drowsy driving is a major cause of traffic accidents, comparable to driving under the influence of alcohol. Promoting good sleep hygiene and ensuring adequate rest can therefore enhance safety and productivity across various sectors.\n",
        "\n",
        "In conclusion, sleep is a critical component of overall health and well-being, impacting cognitive function, emotional stability, physical health, and societal safety. Recognizing the importance of sleep and prioritizing it in daily routines can lead to profound improvements in quality of life. As research continues to uncover the multifaceted benefits of sleep, it becomes increasingly clear that fostering good sleep habits is essential for achieving optimal health and functioning in modern society. By valuing and protecting our sleep, we invest in a healthier, more balanced future.\"\"\""
      ],
      "metadata": {
        "id": "PH1T2smh00lI"
      },
      "execution_count": 5,
      "outputs": []
    },
    {
      "cell_type": "code",
      "source": [
        "# Tokenizing sentences\n",
        "sentences = nltk.sent_tokenize(paragraph)\n",
        "sentences"
      ],
      "metadata": {
        "colab": {
          "base_uri": "https://localhost:8080/"
        },
        "id": "nYYMaaRR1BZl",
        "outputId": "28a56cae-926b-4ed4-b29f-c1824f35efdc"
      },
      "execution_count": 6,
      "outputs": [
        {
          "output_type": "execute_result",
          "data": {
            "text/plain": [
              "['Sleep is a fundamental aspect of human health, playing a critical role in various bodily functions and overall well-being.',\n",
              " 'Despite its importance, sleep is often undervalued in modern society, where busy schedules and a culture of constant productivity can lead to chronic sleep deprivation.',\n",
              " 'Understanding the significance of sleep is essential for fostering better health and quality of life.',\n",
              " 'Firstly, sleep is crucial for cognitive functions such as memory consolidation, learning, and problem-solving.',\n",
              " 'During sleep, particularly the rapid eye movement (REM) stage, the brain processes and organizes information gathered throughout the day.',\n",
              " 'This process helps solidify memories and improves the ability to recall information later.',\n",
              " 'Studies have shown that adequate sleep enhances performance on tasks requiring attention, creativity, and decision-making, highlighting its role in cognitive health.',\n",
              " 'Moreover, sleep is vital for emotional regulation.',\n",
              " \"Lack of sleep affects the brain's ability to manage stress and emotions, often leading to increased irritability, anxiety, and mood disorders.\",\n",
              " 'Chronic sleep deprivation is associated with a higher risk of developing mental health issues such as depression and anxiety disorders.',\n",
              " 'Sleep helps maintain the balance of neurotransmitters and hormones involved in mood regulation, thereby contributing to emotional stability and mental health.',\n",
              " \"Physiologically, sleep is indispensable for the body's repair and rejuvenation processes.\",\n",
              " 'During deep sleep stages, the body releases growth hormones that facilitate tissue growth and muscle repair.',\n",
              " 'This is particularly important for athletes and individuals engaged in physical activities, as sleep supports recovery and performance.',\n",
              " 'Additionally, sleep aids the immune system by enhancing the production of cytokines, proteins that help fight infections and inflammation.',\n",
              " 'Consequently, sufficient sleep is linked to a lower susceptibility to illnesses and quicker recovery times.',\n",
              " 'Sleep also plays a pivotal role in maintaining metabolic health.',\n",
              " 'Insufficient sleep disrupts the balance of hormones that regulate hunger and appetite, such as leptin and ghrelin.',\n",
              " 'This disruption can lead to increased appetite and cravings for high-calorie, carbohydrate-rich foods, contributing to weight gain and obesity.',\n",
              " 'Furthermore, chronic sleep deprivation is associated with a higher risk of developing metabolic disorders such as diabetes and cardiovascular diseases.',\n",
              " 'By ensuring adequate sleep, individuals can better manage their weight and reduce the risk of metabolic health issues.',\n",
              " 'The societal implications of sleep deprivation are equally significant.',\n",
              " 'Sleep-deprived individuals are more prone to accidents and errors, particularly in high-stakes professions such as healthcare, transportation, and manufacturing.',\n",
              " 'For instance, drowsy driving is a major cause of traffic accidents, comparable to driving under the influence of alcohol.',\n",
              " 'Promoting good sleep hygiene and ensuring adequate rest can therefore enhance safety and productivity across various sectors.',\n",
              " 'In conclusion, sleep is a critical component of overall health and well-being, impacting cognitive function, emotional stability, physical health, and societal safety.',\n",
              " 'Recognizing the importance of sleep and prioritizing it in daily routines can lead to profound improvements in quality of life.',\n",
              " 'As research continues to uncover the multifaceted benefits of sleep, it becomes increasingly clear that fostering good sleep habits is essential for achieving optimal health and functioning in modern society.',\n",
              " 'By valuing and protecting our sleep, we invest in a healthier, more balanced future.']"
            ]
          },
          "metadata": {},
          "execution_count": 6
        }
      ]
    },
    {
      "cell_type": "code",
      "source": [
        "#Tokenizing words\n",
        "words = nltk.word_tokenize(paragraph)\n",
        "words"
      ],
      "metadata": {
        "colab": {
          "base_uri": "https://localhost:8080/"
        },
        "id": "dSO-opT61DbB",
        "outputId": "da4a45d6-3cc6-46d5-8b82-1d138d7d85cd"
      },
      "execution_count": 7,
      "outputs": [
        {
          "output_type": "execute_result",
          "data": {
            "text/plain": [
              "['Sleep',\n",
              " 'is',\n",
              " 'a',\n",
              " 'fundamental',\n",
              " 'aspect',\n",
              " 'of',\n",
              " 'human',\n",
              " 'health',\n",
              " ',',\n",
              " 'playing',\n",
              " 'a',\n",
              " 'critical',\n",
              " 'role',\n",
              " 'in',\n",
              " 'various',\n",
              " 'bodily',\n",
              " 'functions',\n",
              " 'and',\n",
              " 'overall',\n",
              " 'well-being',\n",
              " '.',\n",
              " 'Despite',\n",
              " 'its',\n",
              " 'importance',\n",
              " ',',\n",
              " 'sleep',\n",
              " 'is',\n",
              " 'often',\n",
              " 'undervalued',\n",
              " 'in',\n",
              " 'modern',\n",
              " 'society',\n",
              " ',',\n",
              " 'where',\n",
              " 'busy',\n",
              " 'schedules',\n",
              " 'and',\n",
              " 'a',\n",
              " 'culture',\n",
              " 'of',\n",
              " 'constant',\n",
              " 'productivity',\n",
              " 'can',\n",
              " 'lead',\n",
              " 'to',\n",
              " 'chronic',\n",
              " 'sleep',\n",
              " 'deprivation',\n",
              " '.',\n",
              " 'Understanding',\n",
              " 'the',\n",
              " 'significance',\n",
              " 'of',\n",
              " 'sleep',\n",
              " 'is',\n",
              " 'essential',\n",
              " 'for',\n",
              " 'fostering',\n",
              " 'better',\n",
              " 'health',\n",
              " 'and',\n",
              " 'quality',\n",
              " 'of',\n",
              " 'life',\n",
              " '.',\n",
              " 'Firstly',\n",
              " ',',\n",
              " 'sleep',\n",
              " 'is',\n",
              " 'crucial',\n",
              " 'for',\n",
              " 'cognitive',\n",
              " 'functions',\n",
              " 'such',\n",
              " 'as',\n",
              " 'memory',\n",
              " 'consolidation',\n",
              " ',',\n",
              " 'learning',\n",
              " ',',\n",
              " 'and',\n",
              " 'problem-solving',\n",
              " '.',\n",
              " 'During',\n",
              " 'sleep',\n",
              " ',',\n",
              " 'particularly',\n",
              " 'the',\n",
              " 'rapid',\n",
              " 'eye',\n",
              " 'movement',\n",
              " '(',\n",
              " 'REM',\n",
              " ')',\n",
              " 'stage',\n",
              " ',',\n",
              " 'the',\n",
              " 'brain',\n",
              " 'processes',\n",
              " 'and',\n",
              " 'organizes',\n",
              " 'information',\n",
              " 'gathered',\n",
              " 'throughout',\n",
              " 'the',\n",
              " 'day',\n",
              " '.',\n",
              " 'This',\n",
              " 'process',\n",
              " 'helps',\n",
              " 'solidify',\n",
              " 'memories',\n",
              " 'and',\n",
              " 'improves',\n",
              " 'the',\n",
              " 'ability',\n",
              " 'to',\n",
              " 'recall',\n",
              " 'information',\n",
              " 'later',\n",
              " '.',\n",
              " 'Studies',\n",
              " 'have',\n",
              " 'shown',\n",
              " 'that',\n",
              " 'adequate',\n",
              " 'sleep',\n",
              " 'enhances',\n",
              " 'performance',\n",
              " 'on',\n",
              " 'tasks',\n",
              " 'requiring',\n",
              " 'attention',\n",
              " ',',\n",
              " 'creativity',\n",
              " ',',\n",
              " 'and',\n",
              " 'decision-making',\n",
              " ',',\n",
              " 'highlighting',\n",
              " 'its',\n",
              " 'role',\n",
              " 'in',\n",
              " 'cognitive',\n",
              " 'health',\n",
              " '.',\n",
              " 'Moreover',\n",
              " ',',\n",
              " 'sleep',\n",
              " 'is',\n",
              " 'vital',\n",
              " 'for',\n",
              " 'emotional',\n",
              " 'regulation',\n",
              " '.',\n",
              " 'Lack',\n",
              " 'of',\n",
              " 'sleep',\n",
              " 'affects',\n",
              " 'the',\n",
              " 'brain',\n",
              " \"'s\",\n",
              " 'ability',\n",
              " 'to',\n",
              " 'manage',\n",
              " 'stress',\n",
              " 'and',\n",
              " 'emotions',\n",
              " ',',\n",
              " 'often',\n",
              " 'leading',\n",
              " 'to',\n",
              " 'increased',\n",
              " 'irritability',\n",
              " ',',\n",
              " 'anxiety',\n",
              " ',',\n",
              " 'and',\n",
              " 'mood',\n",
              " 'disorders',\n",
              " '.',\n",
              " 'Chronic',\n",
              " 'sleep',\n",
              " 'deprivation',\n",
              " 'is',\n",
              " 'associated',\n",
              " 'with',\n",
              " 'a',\n",
              " 'higher',\n",
              " 'risk',\n",
              " 'of',\n",
              " 'developing',\n",
              " 'mental',\n",
              " 'health',\n",
              " 'issues',\n",
              " 'such',\n",
              " 'as',\n",
              " 'depression',\n",
              " 'and',\n",
              " 'anxiety',\n",
              " 'disorders',\n",
              " '.',\n",
              " 'Sleep',\n",
              " 'helps',\n",
              " 'maintain',\n",
              " 'the',\n",
              " 'balance',\n",
              " 'of',\n",
              " 'neurotransmitters',\n",
              " 'and',\n",
              " 'hormones',\n",
              " 'involved',\n",
              " 'in',\n",
              " 'mood',\n",
              " 'regulation',\n",
              " ',',\n",
              " 'thereby',\n",
              " 'contributing',\n",
              " 'to',\n",
              " 'emotional',\n",
              " 'stability',\n",
              " 'and',\n",
              " 'mental',\n",
              " 'health',\n",
              " '.',\n",
              " 'Physiologically',\n",
              " ',',\n",
              " 'sleep',\n",
              " 'is',\n",
              " 'indispensable',\n",
              " 'for',\n",
              " 'the',\n",
              " 'body',\n",
              " \"'s\",\n",
              " 'repair',\n",
              " 'and',\n",
              " 'rejuvenation',\n",
              " 'processes',\n",
              " '.',\n",
              " 'During',\n",
              " 'deep',\n",
              " 'sleep',\n",
              " 'stages',\n",
              " ',',\n",
              " 'the',\n",
              " 'body',\n",
              " 'releases',\n",
              " 'growth',\n",
              " 'hormones',\n",
              " 'that',\n",
              " 'facilitate',\n",
              " 'tissue',\n",
              " 'growth',\n",
              " 'and',\n",
              " 'muscle',\n",
              " 'repair',\n",
              " '.',\n",
              " 'This',\n",
              " 'is',\n",
              " 'particularly',\n",
              " 'important',\n",
              " 'for',\n",
              " 'athletes',\n",
              " 'and',\n",
              " 'individuals',\n",
              " 'engaged',\n",
              " 'in',\n",
              " 'physical',\n",
              " 'activities',\n",
              " ',',\n",
              " 'as',\n",
              " 'sleep',\n",
              " 'supports',\n",
              " 'recovery',\n",
              " 'and',\n",
              " 'performance',\n",
              " '.',\n",
              " 'Additionally',\n",
              " ',',\n",
              " 'sleep',\n",
              " 'aids',\n",
              " 'the',\n",
              " 'immune',\n",
              " 'system',\n",
              " 'by',\n",
              " 'enhancing',\n",
              " 'the',\n",
              " 'production',\n",
              " 'of',\n",
              " 'cytokines',\n",
              " ',',\n",
              " 'proteins',\n",
              " 'that',\n",
              " 'help',\n",
              " 'fight',\n",
              " 'infections',\n",
              " 'and',\n",
              " 'inflammation',\n",
              " '.',\n",
              " 'Consequently',\n",
              " ',',\n",
              " 'sufficient',\n",
              " 'sleep',\n",
              " 'is',\n",
              " 'linked',\n",
              " 'to',\n",
              " 'a',\n",
              " 'lower',\n",
              " 'susceptibility',\n",
              " 'to',\n",
              " 'illnesses',\n",
              " 'and',\n",
              " 'quicker',\n",
              " 'recovery',\n",
              " 'times',\n",
              " '.',\n",
              " 'Sleep',\n",
              " 'also',\n",
              " 'plays',\n",
              " 'a',\n",
              " 'pivotal',\n",
              " 'role',\n",
              " 'in',\n",
              " 'maintaining',\n",
              " 'metabolic',\n",
              " 'health',\n",
              " '.',\n",
              " 'Insufficient',\n",
              " 'sleep',\n",
              " 'disrupts',\n",
              " 'the',\n",
              " 'balance',\n",
              " 'of',\n",
              " 'hormones',\n",
              " 'that',\n",
              " 'regulate',\n",
              " 'hunger',\n",
              " 'and',\n",
              " 'appetite',\n",
              " ',',\n",
              " 'such',\n",
              " 'as',\n",
              " 'leptin',\n",
              " 'and',\n",
              " 'ghrelin',\n",
              " '.',\n",
              " 'This',\n",
              " 'disruption',\n",
              " 'can',\n",
              " 'lead',\n",
              " 'to',\n",
              " 'increased',\n",
              " 'appetite',\n",
              " 'and',\n",
              " 'cravings',\n",
              " 'for',\n",
              " 'high-calorie',\n",
              " ',',\n",
              " 'carbohydrate-rich',\n",
              " 'foods',\n",
              " ',',\n",
              " 'contributing',\n",
              " 'to',\n",
              " 'weight',\n",
              " 'gain',\n",
              " 'and',\n",
              " 'obesity',\n",
              " '.',\n",
              " 'Furthermore',\n",
              " ',',\n",
              " 'chronic',\n",
              " 'sleep',\n",
              " 'deprivation',\n",
              " 'is',\n",
              " 'associated',\n",
              " 'with',\n",
              " 'a',\n",
              " 'higher',\n",
              " 'risk',\n",
              " 'of',\n",
              " 'developing',\n",
              " 'metabolic',\n",
              " 'disorders',\n",
              " 'such',\n",
              " 'as',\n",
              " 'diabetes',\n",
              " 'and',\n",
              " 'cardiovascular',\n",
              " 'diseases',\n",
              " '.',\n",
              " 'By',\n",
              " 'ensuring',\n",
              " 'adequate',\n",
              " 'sleep',\n",
              " ',',\n",
              " 'individuals',\n",
              " 'can',\n",
              " 'better',\n",
              " 'manage',\n",
              " 'their',\n",
              " 'weight',\n",
              " 'and',\n",
              " 'reduce',\n",
              " 'the',\n",
              " 'risk',\n",
              " 'of',\n",
              " 'metabolic',\n",
              " 'health',\n",
              " 'issues',\n",
              " '.',\n",
              " 'The',\n",
              " 'societal',\n",
              " 'implications',\n",
              " 'of',\n",
              " 'sleep',\n",
              " 'deprivation',\n",
              " 'are',\n",
              " 'equally',\n",
              " 'significant',\n",
              " '.',\n",
              " 'Sleep-deprived',\n",
              " 'individuals',\n",
              " 'are',\n",
              " 'more',\n",
              " 'prone',\n",
              " 'to',\n",
              " 'accidents',\n",
              " 'and',\n",
              " 'errors',\n",
              " ',',\n",
              " 'particularly',\n",
              " 'in',\n",
              " 'high-stakes',\n",
              " 'professions',\n",
              " 'such',\n",
              " 'as',\n",
              " 'healthcare',\n",
              " ',',\n",
              " 'transportation',\n",
              " ',',\n",
              " 'and',\n",
              " 'manufacturing',\n",
              " '.',\n",
              " 'For',\n",
              " 'instance',\n",
              " ',',\n",
              " 'drowsy',\n",
              " 'driving',\n",
              " 'is',\n",
              " 'a',\n",
              " 'major',\n",
              " 'cause',\n",
              " 'of',\n",
              " 'traffic',\n",
              " 'accidents',\n",
              " ',',\n",
              " 'comparable',\n",
              " 'to',\n",
              " 'driving',\n",
              " 'under',\n",
              " 'the',\n",
              " 'influence',\n",
              " 'of',\n",
              " 'alcohol',\n",
              " '.',\n",
              " 'Promoting',\n",
              " 'good',\n",
              " 'sleep',\n",
              " 'hygiene',\n",
              " 'and',\n",
              " 'ensuring',\n",
              " 'adequate',\n",
              " 'rest',\n",
              " 'can',\n",
              " 'therefore',\n",
              " 'enhance',\n",
              " 'safety',\n",
              " 'and',\n",
              " 'productivity',\n",
              " 'across',\n",
              " 'various',\n",
              " 'sectors',\n",
              " '.',\n",
              " 'In',\n",
              " 'conclusion',\n",
              " ',',\n",
              " 'sleep',\n",
              " 'is',\n",
              " 'a',\n",
              " 'critical',\n",
              " 'component',\n",
              " 'of',\n",
              " 'overall',\n",
              " 'health',\n",
              " 'and',\n",
              " 'well-being',\n",
              " ',',\n",
              " 'impacting',\n",
              " 'cognitive',\n",
              " 'function',\n",
              " ',',\n",
              " 'emotional',\n",
              " 'stability',\n",
              " ',',\n",
              " 'physical',\n",
              " 'health',\n",
              " ',',\n",
              " 'and',\n",
              " 'societal',\n",
              " 'safety',\n",
              " '.',\n",
              " 'Recognizing',\n",
              " 'the',\n",
              " 'importance',\n",
              " 'of',\n",
              " 'sleep',\n",
              " 'and',\n",
              " 'prioritizing',\n",
              " 'it',\n",
              " 'in',\n",
              " 'daily',\n",
              " 'routines',\n",
              " 'can',\n",
              " 'lead',\n",
              " 'to',\n",
              " 'profound',\n",
              " 'improvements',\n",
              " 'in',\n",
              " 'quality',\n",
              " 'of',\n",
              " 'life',\n",
              " '.',\n",
              " 'As',\n",
              " 'research',\n",
              " 'continues',\n",
              " 'to',\n",
              " 'uncover',\n",
              " 'the',\n",
              " 'multifaceted',\n",
              " 'benefits',\n",
              " 'of',\n",
              " 'sleep',\n",
              " ',',\n",
              " 'it',\n",
              " 'becomes',\n",
              " 'increasingly',\n",
              " 'clear',\n",
              " 'that',\n",
              " 'fostering',\n",
              " 'good',\n",
              " 'sleep',\n",
              " 'habits',\n",
              " 'is',\n",
              " 'essential',\n",
              " 'for',\n",
              " 'achieving',\n",
              " 'optimal',\n",
              " 'health',\n",
              " 'and',\n",
              " 'functioning',\n",
              " 'in',\n",
              " 'modern',\n",
              " 'society',\n",
              " '.',\n",
              " 'By',\n",
              " 'valuing',\n",
              " 'and',\n",
              " 'protecting',\n",
              " 'our',\n",
              " 'sleep',\n",
              " ',',\n",
              " 'we',\n",
              " 'invest',\n",
              " 'in',\n",
              " 'a',\n",
              " 'healthier',\n",
              " ',',\n",
              " 'more',\n",
              " 'balanced',\n",
              " 'future',\n",
              " '.']"
            ]
          },
          "metadata": {},
          "execution_count": 7
        }
      ]
    },
    {
      "cell_type": "code",
      "source": [
        "from nltk.stem import PorterStemmer\n",
        "from nltk.corpus import stopwords\n",
        "nltk.download('stopwords')"
      ],
      "metadata": {
        "colab": {
          "base_uri": "https://localhost:8080/"
        },
        "id": "veHYGfgj1EGu",
        "outputId": "88c48dbf-b1a8-4810-af1c-7b0ef1c10610"
      },
      "execution_count": 8,
      "outputs": [
        {
          "output_type": "stream",
          "name": "stderr",
          "text": [
            "[nltk_data] Downloading package stopwords to /root/nltk_data...\n",
            "[nltk_data]   Unzipping corpora/stopwords.zip.\n"
          ]
        },
        {
          "output_type": "execute_result",
          "data": {
            "text/plain": [
              "True"
            ]
          },
          "metadata": {},
          "execution_count": 8
        }
      ]
    },
    {
      "cell_type": "code",
      "source": [
        "stemmer = PorterStemmer()\n",
        "\n",
        "#stemming\n",
        "for i in range (len(sentences)):\n",
        "  words = nltk.word_tokenize(sentences[i])\n",
        "  words = [stemmer.stem(word) for word in words if word not in set (stopwords.words('english'))]\n",
        "  sentences[i] = ' '.join(words)"
      ],
      "metadata": {
        "id": "BRlik-JG1D9L"
      },
      "execution_count": 10,
      "outputs": []
    },
    {
      "cell_type": "code",
      "source": [
        "sentences[i]"
      ],
      "metadata": {
        "colab": {
          "base_uri": "https://localhost:8080/",
          "height": 35
        },
        "id": "oypzcUP-TXol",
        "outputId": "80a398f3-c150-4488-a4b9-08a3b7eb3081"
      },
      "execution_count": 12,
      "outputs": [
        {
          "output_type": "execute_result",
          "data": {
            "text/plain": [
              "'valu protect sleep , invest healthier , balanc futur .'"
            ],
            "application/vnd.google.colaboratory.intrinsic+json": {
              "type": "string"
            }
          },
          "metadata": {},
          "execution_count": 12
        }
      ]
    },
    {
      "cell_type": "code",
      "source": [
        "from nltk.stem import WordNetLemmatizer\n",
        "nltk.download('wordnet')"
      ],
      "metadata": {
        "colab": {
          "base_uri": "https://localhost:8080/"
        },
        "id": "mVH_bk9RTXgq",
        "outputId": "38f4f18d-26f1-44ee-d0be-79c921dad600"
      },
      "execution_count": 13,
      "outputs": [
        {
          "output_type": "stream",
          "name": "stderr",
          "text": [
            "[nltk_data] Downloading package wordnet to /root/nltk_data...\n"
          ]
        },
        {
          "output_type": "execute_result",
          "data": {
            "text/plain": [
              "True"
            ]
          },
          "metadata": {},
          "execution_count": 13
        }
      ]
    },
    {
      "cell_type": "code",
      "source": [
        "lemmatizer = WordNetLemmatizer()\n",
        "sentences = nltk.sent_tokenize(paragraph)\n",
        "\n",
        "#lemmatization\n",
        "for i in range(len(sentences)):\n",
        "  words = nltk.word_tokenize(sentences[i])\n",
        "  words = [lemmatizer.lemmatize(word) for word in words if word not in set (stopwords.words('english'))]\n",
        "  sentences[i]= ' '.join(words)\n"
      ],
      "metadata": {
        "id": "nWJ45ANYU7I2"
      },
      "execution_count": 15,
      "outputs": []
    },
    {
      "cell_type": "code",
      "source": [
        "sentences[i]"
      ],
      "metadata": {
        "colab": {
          "base_uri": "https://localhost:8080/",
          "height": 35
        },
        "id": "3P_gGLQ2VUdM",
        "outputId": "2dab3c06-c5a4-45e1-9ad7-c276c4c4fc1d"
      },
      "execution_count": 19,
      "outputs": [
        {
          "output_type": "execute_result",
          "data": {
            "text/plain": [
              "'By valuing protecting sleep , invest healthier , balanced future .'"
            ],
            "application/vnd.google.colaboratory.intrinsic+json": {
              "type": "string"
            }
          },
          "metadata": {},
          "execution_count": 19
        }
      ]
    },
    {
      "cell_type": "code",
      "source": [
        "#cleaning the texts\n",
        "import re\n",
        "from nltk.corpus import stopwords\n",
        "from nltk.stem.porter import PorterStemmer\n",
        "from nltk.stem import WordNetLemmatizer\n",
        "\n",
        "ps = PorterStemmer()\n",
        "wordnet = WordNetLemmatizer()\n",
        "sentences = nltk.sent_tokenize(paragraph)\n",
        "corpus = []\n",
        "for i in range(len(sentences)):\n",
        "    review = re.sub('[^a-zA-Z]',' ',sentences[i])\n",
        "    review = review.lower()\n",
        "    review = review.split()\n",
        "    review = [ps.stem(word)for word in review if not word in set(stopwords.words('english'))]\n",
        "    review = ' '.join(review)\n",
        "    corpus.append(review)\n",
        "\n",
        "#creating the bag of words model\n",
        "from sklearn.feature_extraction.text import CountVectorizer\n",
        "cv = CountVectorizer(max_features = 1500)\n",
        "x = cv.fit_transform(corpus).toarray()\n"
      ],
      "metadata": {
        "id": "d-fBnzaZWAKk"
      },
      "execution_count": 27,
      "outputs": []
    },
    {
      "cell_type": "code",
      "source": [
        "x"
      ],
      "metadata": {
        "colab": {
          "base_uri": "https://localhost:8080/"
        },
        "id": "BKo0ZWaEXOQR",
        "outputId": "1405e2d6-60d3-4db1-9aba-a865d508c671"
      },
      "execution_count": 28,
      "outputs": [
        {
          "output_type": "execute_result",
          "data": {
            "text/plain": [
              "array([[0, 0, 0, ..., 0, 0, 1],\n",
              "       [0, 0, 0, ..., 0, 0, 0],\n",
              "       [0, 0, 0, ..., 0, 0, 0],\n",
              "       ...,\n",
              "       [0, 0, 0, ..., 0, 0, 0],\n",
              "       [0, 0, 1, ..., 0, 0, 0],\n",
              "       [0, 0, 0, ..., 0, 0, 0]])"
            ]
          },
          "metadata": {},
          "execution_count": 28
        }
      ]
    },
    {
      "cell_type": "code",
      "source": [
        "sentences = nltk.sent_tokenize(paragraph)\n",
        "corpus = []\n",
        "for i in range(len(sentences)):\n",
        "    review = re.sub('[^a-zA-Z]',' ',sentences[i])\n",
        "    review = review.lower()\n",
        "    review = review.split()\n",
        "    review = [ps.stem(word)for word in review if not word in set(stopwords.words('english'))]\n",
        "    review = ' '.join(review)\n",
        "    corpus.append(review)\n",
        "\n",
        "    #creating the TF-IDF model\n",
        "    from sklearn.feature_extraction.text import TfidfVectorizer\n",
        "    tf = TfidfVectorizer()\n",
        "    x = tf.fit_transform(corpus).toarray()\n"
      ],
      "metadata": {
        "id": "tccy7JfwbP4-"
      },
      "execution_count": 29,
      "outputs": []
    },
    {
      "cell_type": "code",
      "source": [
        "x"
      ],
      "metadata": {
        "colab": {
          "base_uri": "https://localhost:8080/"
        },
        "id": "XZ9eE7OvbPNq",
        "outputId": "fe8ad18c-d977-4b02-f81f-37442bf12816"
      },
      "execution_count": 30,
      "outputs": [
        {
          "output_type": "execute_result",
          "data": {
            "text/plain": [
              "array([[0.        , 0.        , 0.        , ..., 0.        , 0.        ,\n",
              "        0.28740584],\n",
              "       [0.        , 0.        , 0.        , ..., 0.        , 0.        ,\n",
              "        0.        ],\n",
              "       [0.        , 0.        , 0.        , ..., 0.        , 0.        ,\n",
              "        0.        ],\n",
              "       ...,\n",
              "       [0.        , 0.        , 0.        , ..., 0.        , 0.        ,\n",
              "        0.        ],\n",
              "       [0.        , 0.        , 0.24838364, ..., 0.        , 0.        ,\n",
              "        0.        ],\n",
              "       [0.        , 0.        , 0.        , ..., 0.        , 0.        ,\n",
              "        0.        ]])"
            ]
          },
          "metadata": {},
          "execution_count": 30
        }
      ]
    }
  ]
}